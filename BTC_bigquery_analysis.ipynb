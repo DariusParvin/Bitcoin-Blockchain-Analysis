{
 "cells": [
  {
   "cell_type": "code",
   "execution_count": 1,
   "metadata": {},
   "outputs": [
    {
     "data": {
      "text/html": [
       "<script>\n",
       "code_show=true; \n",
       "function code_toggle() {\n",
       " if (code_show){\n",
       " $('div.input').hide();\n",
       " } else {\n",
       " $('div.input').show();\n",
       " }\n",
       " code_show = !code_show\n",
       "} \n",
       "$( document ).ready(code_toggle);\n",
       "</script>\n",
       "<form action=\"javascript:code_toggle()\"><input type=\"submit\" value=\"Click here to toggle on/off the raw code.\"></form>"
      ],
      "text/plain": [
       "<IPython.core.display.HTML object>"
      ]
     },
     "execution_count": 1,
     "metadata": {},
     "output_type": "execute_result"
    }
   ],
   "source": [
    "from IPython.display import HTML\n",
    "\n",
    "HTML('''<script>\n",
    "code_show=true; \n",
    "function code_toggle() {\n",
    " if (code_show){\n",
    " $('div.input').hide();\n",
    " } else {\n",
    " $('div.input').show();\n",
    " }\n",
    " code_show = !code_show\n",
    "} \n",
    "$( document ).ready(code_toggle);\n",
    "</script>\n",
    "<form action=\"javascript:code_toggle()\"><input type=\"submit\" value=\"Click here to toggle on/off the raw code.\"></form>''')"
   ]
  },
  {
   "cell_type": "markdown",
   "metadata": {},
   "source": [
    "To be able to use BigQuery you need to gain authentication (see https://cloud.google.com/bigquery/docs/reference/libraries#client-libraries-install-python)\n",
    "\n",
    "To gain authorization, run this line and restart the notebook:<br>\n",
    "export GOOGLE_APPLICATION_CREDENTIALS=\"/Users/dariuscognac/Desktop/My First Project-5da946f4eaaa.json\""
   ]
  },
  {
   "cell_type": "code",
   "execution_count": 2,
   "metadata": {},
   "outputs": [],
   "source": [
    "import numpy as np # linear algebra\n",
    "import pandas as pd # data processing, CSV file I/O (e.g. pd.read_csv)\n",
    "import seaborn as sns\n",
    "import matplotlib.pyplot as plt\n",
    "from datetime import datetime\n",
    "\n",
    "from google.cloud import bigquery\n",
    "client = bigquery.Client()"
   ]
  },
  {
   "cell_type": "code",
   "execution_count": 3,
   "metadata": {},
   "outputs": [],
   "source": [
    "def formatNumber(number): \n",
    "    return (\"{:,}\".format(number)) "
   ]
  },
  {
   "cell_type": "markdown",
   "metadata": {},
   "source": [
    "#### Latest block (from BigQuery)"
   ]
  },
  {
   "cell_type": "code",
   "execution_count": 4,
   "metadata": {},
   "outputs": [
    {
     "name": "stdout",
     "output_type": "stream",
     "text": [
      "2018-09-10 13:23:25\n"
     ]
    }
   ],
   "source": [
    "query = (\"\"\"\n",
    "SELECT MAX(timestamp)\n",
    "FROM `bigquery-public-data.bitcoin_blockchain.transactions`\n",
    "\"\"\")\n",
    "\n",
    "query_job = client.query(\n",
    "    query,\n",
    "    # Location must match that of the dataset(s) referenced in the query.\n",
    "    location=\"US\",\n",
    ")  # API request - starts the query\n",
    "\n",
    "unixTime = query_job.to_dataframe().values[0][0]\n",
    "print(pd.to_datetime(unixTime,unit='ms'))"
   ]
  },
  {
   "cell_type": "markdown",
   "metadata": {},
   "source": [
    "#### Current block height"
   ]
  },
  {
   "cell_type": "code",
   "execution_count": 5,
   "metadata": {},
   "outputs": [
    {
     "name": "stdout",
     "output_type": "stream",
     "text": [
      "540,584\n"
     ]
    }
   ],
   "source": [
    "query = (\"\"\"\n",
    "SELECT COUNT(DISTINCT(block_id))\n",
    "FROM `bigquery-public-data.bitcoin_blockchain.transactions`\n",
    "\"\"\")\n",
    "\n",
    "query_job = client.query(\n",
    "    query,\n",
    "    # Location must match that of the dataset(s) referenced in the query.\n",
    "    location=\"US\",\n",
    ")  # API request - starts the query\n",
    "\n",
    "print(formatNumber(query_job.to_dataframe().values[0][0]))"
   ]
  },
  {
   "cell_type": "markdown",
   "metadata": {},
   "source": [
    "#### The current total number of Bitcoin transactions:"
   ]
  },
  {
   "cell_type": "code",
   "execution_count": 6,
   "metadata": {},
   "outputs": [
    {
     "name": "stdout",
     "output_type": "stream",
     "text": [
      "340,311,544\n"
     ]
    }
   ],
   "source": [
    "query = (\"\"\"\n",
    "SELECT COUNT(*)\n",
    "FROM `bigquery-public-data.bitcoin_blockchain.transactions`\n",
    "\"\"\")\n",
    "query_job = client.query(\n",
    "    query,\n",
    "    # Location must match that of the dataset(s) referenced in the query.\n",
    "    location=\"US\",\n",
    ")  # API request - starts the query\n",
    "\n",
    "print(formatNumber(query_job.to_dataframe().values[0][0]))"
   ]
  },
  {
   "cell_type": "markdown",
   "metadata": {},
   "source": [
    "#### The total current number of unique public keys:"
   ]
  },
  {
   "cell_type": "code",
   "execution_count": 7,
   "metadata": {},
   "outputs": [
    {
     "name": "stdout",
     "output_type": "stream",
     "text": [
      "422,814,403\n"
     ]
    }
   ],
   "source": [
    "query = (\"\"\"\n",
    "SELECT \n",
    "    COUNT(DISTINCT(o.output_pubkey_base58))\n",
    "FROM `bigquery-public-data.bitcoin_blockchain.transactions`\n",
    "    JOIN UNNEST (outputs) AS o\n",
    "\"\"\")\n",
    "\n",
    "query_job = client.query(\n",
    "    query,\n",
    "    # Location must match that of the dataset(s) referenced in the query.\n",
    "    location=\"US\",\n",
    ")  # API request - starts the query\n",
    "\n",
    "print(formatNumber(query_job.to_dataframe().values[0][0]))"
   ]
  },
  {
   "cell_type": "markdown",
   "metadata": {},
   "source": [
    "#### Transactions per block"
   ]
  },
  {
   "cell_type": "code",
   "execution_count": 8,
   "metadata": {},
   "outputs": [],
   "source": [
    "query = (\"\"\"\n",
    "SELECT COUNT(DISTINCT(transaction_id)) AS txs, timestamp \n",
    "FROM `bigquery-public-data.bitcoin_blockchain.transactions`\n",
    "GROUP BY timestamp\n",
    "ORDER BY timestamp\n",
    "\"\"\")\n",
    "\n",
    "query_job = client.query(\n",
    "    query,\n",
    "    # Location must match that of the dataset(s) referenced in the query.\n",
    "    location=\"US\",\n",
    ")  # API request - starts the query\n",
    "\n",
    "df = query_job.to_dataframe()"
   ]
  },
  {
   "cell_type": "code",
   "execution_count": 9,
   "metadata": {},
   "outputs": [
    {
     "data": {
      "text/html": [
       "<div>\n",
       "<style scoped>\n",
       "    .dataframe tbody tr th:only-of-type {\n",
       "        vertical-align: middle;\n",
       "    }\n",
       "\n",
       "    .dataframe tbody tr th {\n",
       "        vertical-align: top;\n",
       "    }\n",
       "\n",
       "    .dataframe thead th {\n",
       "        text-align: right;\n",
       "    }\n",
       "</style>\n",
       "<table border=\"1\" class=\"dataframe\">\n",
       "  <thead>\n",
       "    <tr style=\"text-align: right;\">\n",
       "      <th></th>\n",
       "      <th>txs</th>\n",
       "      <th>timestamp</th>\n",
       "      <th>date</th>\n",
       "    </tr>\n",
       "  </thead>\n",
       "  <tbody>\n",
       "    <tr>\n",
       "      <th>0</th>\n",
       "      <td>1</td>\n",
       "      <td>1231469665000</td>\n",
       "      <td>2009-01-09</td>\n",
       "    </tr>\n",
       "    <tr>\n",
       "      <th>1</th>\n",
       "      <td>1</td>\n",
       "      <td>1231469744000</td>\n",
       "      <td>2009-01-09</td>\n",
       "    </tr>\n",
       "    <tr>\n",
       "      <th>2</th>\n",
       "      <td>1</td>\n",
       "      <td>1231470173000</td>\n",
       "      <td>2009-01-09</td>\n",
       "    </tr>\n",
       "    <tr>\n",
       "      <th>3</th>\n",
       "      <td>1</td>\n",
       "      <td>1231470988000</td>\n",
       "      <td>2009-01-09</td>\n",
       "    </tr>\n",
       "    <tr>\n",
       "      <th>4</th>\n",
       "      <td>1</td>\n",
       "      <td>1231471428000</td>\n",
       "      <td>2009-01-09</td>\n",
       "    </tr>\n",
       "  </tbody>\n",
       "</table>\n",
       "</div>"
      ],
      "text/plain": [
       "   txs      timestamp       date\n",
       "0    1  1231469665000 2009-01-09\n",
       "1    1  1231469744000 2009-01-09\n",
       "2    1  1231470173000 2009-01-09\n",
       "3    1  1231470988000 2009-01-09\n",
       "4    1  1231471428000 2009-01-09"
      ]
     },
     "execution_count": 9,
     "metadata": {},
     "output_type": "execute_result"
    }
   ],
   "source": [
    "# # Round to nearest month\n",
    "# df[\"date\"] = pd.to_datetime(df.timestamp, unit = 'ms').dt.to_period('M').dt.to_timestamp()\n",
    "\n",
    "# Round to nearest day\n",
    "df[\"date\"] = pd.to_datetime(df.timestamp, unit = 'ms').dt.to_period('d').dt.to_timestamp()"
   ]
  },
  {
   "cell_type": "code",
   "execution_count": 10,
   "metadata": {},
   "outputs": [
    {
     "data": {
      "image/png": "[encoded data removed]",
      "text/plain": [
       "<Figure size 1130.4x595.44 with 1 Axes>"
      ]
     },
     "metadata": {
      "needs_background": "light"
     },
     "output_type": "display_data"
    }
   ],
   "source": [
    "a4_dims = (15.7, 8.27)\n",
    "fig, ax = plt.subplots(figsize=a4_dims)\n",
    "df['txs'].groupby(df['date']).mean().plot();"
   ]
  },
  {
   "cell_type": "markdown",
   "metadata": {},
   "source": [
    "#### Distribution of pubkey usage"
   ]
  },
  {
   "cell_type": "code",
   "execution_count": 11,
   "metadata": {},
   "outputs": [],
   "source": [
    "query = (\n",
    "    \"\"\"SELECT pub_key, unique_receive_txs, unique_sent_txs, (unique_sent_txs/unique_receive_txs) AS ratio_sent\n",
    "FROM (\n",
    "  # Subquery number of unique tx per OUTPUT address. This is equivalent to how many times an address RECEIVED a tx\n",
    "  SELECT\n",
    "      o.output_pubkey_base58 AS pub_key, COUNT(DISTINCT(transaction_id)) AS unique_receive_txs\n",
    "  FROM `bigquery-public-data.bitcoin_blockchain.transactions`\n",
    "      JOIN UNNEST (outputs) AS o\n",
    "  WHERE o.output_pubkey_base58 IS NOT NULL\n",
    "  AND timestamp < 1293840000000  # Before 2011 Jan 01\n",
    "  GROUP BY o.output_pubkey_base58\n",
    "  )\n",
    "FULL JOIN (  \n",
    "  # Subquery number of unique tx per INPUT address. This is equivalent to how many times an address SENT a tx\n",
    "  SELECT\n",
    "      i.input_pubkey_base58 AS pub_key, COUNT(DISTINCT(transaction_id)) AS unique_sent_txs\n",
    "  FROM `bigquery-public-data.bitcoin_blockchain.transactions`\n",
    "      JOIN UNNEST (inputs) AS i\n",
    "  WHERE i.input_pubkey_base58 IS NOT NULL\n",
    "  AND timestamp < 1293840000000  # Before 2011 Jan 01\n",
    "  GROUP BY i.input_pubkey_base58\n",
    "  )\n",
    "  USING(pub_key)\n",
    "  \n",
    "-- WHERE unique_receive_txs < 1000 \n",
    "--   AND unique_sent_txs < 1000\n",
    "--   AND (unique_receive_txs > 1 OR unique_sent_txs > 1)\n",
    "-- ORDER BY RAND() LIMIT 1000000\"\"\"\n",
    ")\n",
    "query_job = client.query(\n",
    "    query,\n",
    "    # Location must match that of the dataset(s) referenced in the query.\n",
    "    location=\"US\",\n",
    ")  # API request - starts the query\n"
   ]
  },
  {
   "cell_type": "code",
   "execution_count": 12,
   "metadata": {},
   "outputs": [
    {
     "name": "stdout",
     "output_type": "stream",
     "text": [
      "73,531\n"
     ]
    },
    {
     "data": {
      "text/html": [
       "<div>\n",
       "<style scoped>\n",
       "    .dataframe tbody tr th:only-of-type {\n",
       "        vertical-align: middle;\n",
       "    }\n",
       "\n",
       "    .dataframe tbody tr th {\n",
       "        vertical-align: top;\n",
       "    }\n",
       "\n",
       "    .dataframe thead th {\n",
       "        text-align: right;\n",
       "    }\n",
       "</style>\n",
       "<table border=\"1\" class=\"dataframe\">\n",
       "  <thead>\n",
       "    <tr style=\"text-align: right;\">\n",
       "      <th></th>\n",
       "      <th>pub_key</th>\n",
       "      <th>unique_receive_txs</th>\n",
       "      <th>unique_sent_txs</th>\n",
       "      <th>ratio_sent</th>\n",
       "    </tr>\n",
       "  </thead>\n",
       "  <tbody>\n",
       "    <tr>\n",
       "      <th>0</th>\n",
       "      <td>17yhRAYKJvVmBh14HMxYRHp2Z4erWgk1ne</td>\n",
       "      <td>4007.0</td>\n",
       "      <td>4006.0</td>\n",
       "      <td>0.999750</td>\n",
       "    </tr>\n",
       "    <tr>\n",
       "      <th>1</th>\n",
       "      <td>1Bw1hpkUrTKRmrwJBGdZTenoFeX63zrq33</td>\n",
       "      <td>5498.0</td>\n",
       "      <td>5498.0</td>\n",
       "      <td>1.000000</td>\n",
       "    </tr>\n",
       "    <tr>\n",
       "      <th>2</th>\n",
       "      <td>14QGCuhKbNAsdeZADZnSmPhEPkzJ5tLvGD</td>\n",
       "      <td>15.0</td>\n",
       "      <td>6.0</td>\n",
       "      <td>0.400000</td>\n",
       "    </tr>\n",
       "    <tr>\n",
       "      <th>3</th>\n",
       "      <td>1nHBbVFepCvvuVcVp9NVpRJgSH4ycjNxP</td>\n",
       "      <td>464.0</td>\n",
       "      <td>62.0</td>\n",
       "      <td>0.133621</td>\n",
       "    </tr>\n",
       "    <tr>\n",
       "      <th>4</th>\n",
       "      <td>1Q183Tg192FSAKhNfAk5tNFmSchpTRqPdf</td>\n",
       "      <td>78.0</td>\n",
       "      <td>50.0</td>\n",
       "      <td>0.641026</td>\n",
       "    </tr>\n",
       "  </tbody>\n",
       "</table>\n",
       "</div>"
      ],
      "text/plain": [
       "                              pub_key  unique_receive_txs  unique_sent_txs  \\\n",
       "0  17yhRAYKJvVmBh14HMxYRHp2Z4erWgk1ne              4007.0           4006.0   \n",
       "1  1Bw1hpkUrTKRmrwJBGdZTenoFeX63zrq33              5498.0           5498.0   \n",
       "2  14QGCuhKbNAsdeZADZnSmPhEPkzJ5tLvGD                15.0              6.0   \n",
       "3   1nHBbVFepCvvuVcVp9NVpRJgSH4ycjNxP               464.0             62.0   \n",
       "4  1Q183Tg192FSAKhNfAk5tNFmSchpTRqPdf                78.0             50.0   \n",
       "\n",
       "   ratio_sent  \n",
       "0    0.999750  \n",
       "1    1.000000  \n",
       "2    0.400000  \n",
       "3    0.133621  \n",
       "4    0.641026  "
      ]
     },
     "metadata": {},
     "output_type": "display_data"
    },
    {
     "data": {
      "text/html": [
       "<div>\n",
       "<style scoped>\n",
       "    .dataframe tbody tr th:only-of-type {\n",
       "        vertical-align: middle;\n",
       "    }\n",
       "\n",
       "    .dataframe tbody tr th {\n",
       "        vertical-align: top;\n",
       "    }\n",
       "\n",
       "    .dataframe thead th {\n",
       "        text-align: right;\n",
       "    }\n",
       "</style>\n",
       "<table border=\"1\" class=\"dataframe\">\n",
       "  <thead>\n",
       "    <tr style=\"text-align: right;\">\n",
       "      <th></th>\n",
       "      <th>unique_receive_txs</th>\n",
       "      <th>unique_sent_txs</th>\n",
       "      <th>ratio_sent</th>\n",
       "    </tr>\n",
       "  </thead>\n",
       "  <tbody>\n",
       "    <tr>\n",
       "      <th>count</th>\n",
       "      <td>73531.000000</td>\n",
       "      <td>73531.000000</td>\n",
       "      <td>73531.000000</td>\n",
       "    </tr>\n",
       "    <tr>\n",
       "      <th>mean</th>\n",
       "      <td>2.224191</td>\n",
       "      <td>2.983422</td>\n",
       "      <td>0.821610</td>\n",
       "    </tr>\n",
       "    <tr>\n",
       "      <th>std</th>\n",
       "      <td>55.285115</td>\n",
       "      <td>373.590622</td>\n",
       "      <td>0.376121</td>\n",
       "    </tr>\n",
       "    <tr>\n",
       "      <th>min</th>\n",
       "      <td>0.000000</td>\n",
       "      <td>0.000000</td>\n",
       "      <td>0.000000</td>\n",
       "    </tr>\n",
       "    <tr>\n",
       "      <th>25%</th>\n",
       "      <td>1.000000</td>\n",
       "      <td>1.000000</td>\n",
       "      <td>1.000000</td>\n",
       "    </tr>\n",
       "    <tr>\n",
       "      <th>50%</th>\n",
       "      <td>1.000000</td>\n",
       "      <td>1.000000</td>\n",
       "      <td>1.000000</td>\n",
       "    </tr>\n",
       "    <tr>\n",
       "      <th>75%</th>\n",
       "      <td>1.000000</td>\n",
       "      <td>1.000000</td>\n",
       "      <td>1.000000</td>\n",
       "    </tr>\n",
       "    <tr>\n",
       "      <th>max</th>\n",
       "      <td>5498.000000</td>\n",
       "      <td>100407.000000</td>\n",
       "      <td>1.000000</td>\n",
       "    </tr>\n",
       "  </tbody>\n",
       "</table>\n",
       "</div>"
      ],
      "text/plain": [
       "       unique_receive_txs  unique_sent_txs    ratio_sent\n",
       "count        73531.000000     73531.000000  73531.000000\n",
       "mean             2.224191         2.983422      0.821610\n",
       "std             55.285115       373.590622      0.376121\n",
       "min              0.000000         0.000000      0.000000\n",
       "25%              1.000000         1.000000      1.000000\n",
       "50%              1.000000         1.000000      1.000000\n",
       "75%              1.000000         1.000000      1.000000\n",
       "max           5498.000000    100407.000000      1.000000"
      ]
     },
     "metadata": {},
     "output_type": "display_data"
    }
   ],
   "source": [
    "df = query_job.to_dataframe()\n",
    "df = df.fillna(0) #NaN corresponds to addresses which have not sent a tx\n",
    "print(formatNumber(len(df)))\n",
    "display(df.head())\n",
    "display(df.describe())"
   ]
  },
  {
   "cell_type": "code",
   "execution_count": 13,
   "metadata": {},
   "outputs": [],
   "source": [
    "pd_crosstab_small = pd.crosstab(df[\"unique_receive_txs\"][df[\"unique_receive_txs\"]<6], \\\n",
    "                                df[\"unique_sent_txs\"][df[\"unique_sent_txs\"]<6],\\\n",
    "                                normalize='all')"
   ]
  },
  {
   "cell_type": "code",
   "execution_count": 14,
   "metadata": {},
   "outputs": [
    {
     "data": {
      "text/html": [
       "<div>\n",
       "<style scoped>\n",
       "    .dataframe tbody tr th:only-of-type {\n",
       "        vertical-align: middle;\n",
       "    }\n",
       "\n",
       "    .dataframe tbody tr th {\n",
       "        vertical-align: top;\n",
       "    }\n",
       "\n",
       "    .dataframe thead th {\n",
       "        text-align: right;\n",
       "    }\n",
       "</style>\n",
       "<table border=\"1\" class=\"dataframe\">\n",
       "  <thead>\n",
       "    <tr style=\"text-align: right;\">\n",
       "      <th>unique_sent_txs</th>\n",
       "      <th>0.0</th>\n",
       "      <th>1.0</th>\n",
       "      <th>2.0</th>\n",
       "      <th>3.0</th>\n",
       "      <th>4.0</th>\n",
       "      <th>5.0</th>\n",
       "    </tr>\n",
       "    <tr>\n",
       "      <th>unique_receive_txs</th>\n",
       "      <th></th>\n",
       "      <th></th>\n",
       "      <th></th>\n",
       "      <th></th>\n",
       "      <th></th>\n",
       "      <th></th>\n",
       "    </tr>\n",
       "  </thead>\n",
       "  <tbody>\n",
       "    <tr>\n",
       "      <th>1.0</th>\n",
       "      <td>0.153185</td>\n",
       "      <td>0.787003</td>\n",
       "      <td>0.000000</td>\n",
       "      <td>0.000000</td>\n",
       "      <td>0.000000</td>\n",
       "      <td>0.000000</td>\n",
       "    </tr>\n",
       "    <tr>\n",
       "      <th>2.0</th>\n",
       "      <td>0.008779</td>\n",
       "      <td>0.008173</td>\n",
       "      <td>0.019855</td>\n",
       "      <td>0.000000</td>\n",
       "      <td>0.000000</td>\n",
       "      <td>0.000000</td>\n",
       "    </tr>\n",
       "    <tr>\n",
       "      <th>3.0</th>\n",
       "      <td>0.002435</td>\n",
       "      <td>0.001802</td>\n",
       "      <td>0.002518</td>\n",
       "      <td>0.008407</td>\n",
       "      <td>0.000000</td>\n",
       "      <td>0.000000</td>\n",
       "    </tr>\n",
       "    <tr>\n",
       "      <th>4.0</th>\n",
       "      <td>0.001004</td>\n",
       "      <td>0.000922</td>\n",
       "      <td>0.000592</td>\n",
       "      <td>0.000908</td>\n",
       "      <td>0.001610</td>\n",
       "      <td>0.000000</td>\n",
       "    </tr>\n",
       "    <tr>\n",
       "      <th>5.0</th>\n",
       "      <td>0.000523</td>\n",
       "      <td>0.000330</td>\n",
       "      <td>0.000303</td>\n",
       "      <td>0.000330</td>\n",
       "      <td>0.000537</td>\n",
       "      <td>0.000784</td>\n",
       "    </tr>\n",
       "  </tbody>\n",
       "</table>\n",
       "</div>"
      ],
      "text/plain": [
       "unique_sent_txs          0.0       1.0       2.0       3.0       4.0       5.0\n",
       "unique_receive_txs                                                            \n",
       "1.0                 0.153185  0.787003  0.000000  0.000000  0.000000  0.000000\n",
       "2.0                 0.008779  0.008173  0.019855  0.000000  0.000000  0.000000\n",
       "3.0                 0.002435  0.001802  0.002518  0.008407  0.000000  0.000000\n",
       "4.0                 0.001004  0.000922  0.000592  0.000908  0.001610  0.000000\n",
       "5.0                 0.000523  0.000330  0.000303  0.000330  0.000537  0.000784"
      ]
     },
     "execution_count": 14,
     "metadata": {},
     "output_type": "execute_result"
    }
   ],
   "source": [
    "pd_crosstab_small.head()"
   ]
  },
  {
   "cell_type": "code",
   "execution_count": 17,
   "metadata": {},
   "outputs": [
    {
     "data": {
      "text/plain": [
       "<matplotlib.axes._subplots.AxesSubplot at 0x1a1e8c3390>"
      ]
     },
     "execution_count": 17,
     "metadata": {},
     "output_type": "execute_result"
    },
    {
     "data": {
      "image/png": "[encoded data removed]",
      "text/plain": [
       "<Figure size 432x288 with 1 Axes>"
      ]
     },
     "metadata": {
      "needs_background": "light"
     },
     "output_type": "display_data"
    }
   ],
   "source": [
    "sns.heatmap(pd_crosstab_small, annot=True, cbar=False, fmt='.2f', linewidths=0.3)"
   ]
  },
  {
   "cell_type": "code",
   "execution_count": 22,
   "metadata": {},
   "outputs": [
    {
     "data": {
      "text/html": [
       "<div>\n",
       "<style scoped>\n",
       "    .dataframe tbody tr th:only-of-type {\n",
       "        vertical-align: middle;\n",
       "    }\n",
       "\n",
       "    .dataframe tbody tr th {\n",
       "        vertical-align: top;\n",
       "    }\n",
       "\n",
       "    .dataframe thead th {\n",
       "        text-align: right;\n",
       "    }\n",
       "</style>\n",
       "<table border=\"1\" class=\"dataframe\">\n",
       "  <thead>\n",
       "    <tr style=\"text-align: right;\">\n",
       "      <th>unique_sent_txs</th>\n",
       "      <th>2.0</th>\n",
       "      <th>3.0</th>\n",
       "      <th>4.0</th>\n",
       "      <th>5.0</th>\n",
       "      <th>6.0</th>\n",
       "      <th>7.0</th>\n",
       "      <th>8.0</th>\n",
       "      <th>9.0</th>\n",
       "      <th>10.0</th>\n",
       "      <th>11.0</th>\n",
       "      <th>...</th>\n",
       "      <th>1747.0</th>\n",
       "      <th>2013.0</th>\n",
       "      <th>3143.0</th>\n",
       "      <th>3712.0</th>\n",
       "      <th>4006.0</th>\n",
       "      <th>4351.0</th>\n",
       "      <th>4966.0</th>\n",
       "      <th>5012.0</th>\n",
       "      <th>5136.0</th>\n",
       "      <th>5498.0</th>\n",
       "    </tr>\n",
       "    <tr>\n",
       "      <th>unique_receive_txs</th>\n",
       "      <th></th>\n",
       "      <th></th>\n",
       "      <th></th>\n",
       "      <th></th>\n",
       "      <th></th>\n",
       "      <th></th>\n",
       "      <th></th>\n",
       "      <th></th>\n",
       "      <th></th>\n",
       "      <th></th>\n",
       "      <th></th>\n",
       "      <th></th>\n",
       "      <th></th>\n",
       "      <th></th>\n",
       "      <th></th>\n",
       "      <th></th>\n",
       "      <th></th>\n",
       "      <th></th>\n",
       "      <th></th>\n",
       "      <th></th>\n",
       "      <th></th>\n",
       "    </tr>\n",
       "  </thead>\n",
       "  <tbody>\n",
       "    <tr>\n",
       "      <th>2.0</th>\n",
       "      <td>0.443863</td>\n",
       "      <td>0.000000</td>\n",
       "      <td>0.000000</td>\n",
       "      <td>0.000000</td>\n",
       "      <td>0.000000</td>\n",
       "      <td>0.0</td>\n",
       "      <td>0.0</td>\n",
       "      <td>0.0</td>\n",
       "      <td>0.0</td>\n",
       "      <td>0.0</td>\n",
       "      <td>...</td>\n",
       "      <td>0.0</td>\n",
       "      <td>0.0</td>\n",
       "      <td>0.0</td>\n",
       "      <td>0.0</td>\n",
       "      <td>0.0</td>\n",
       "      <td>0.0</td>\n",
       "      <td>0.0</td>\n",
       "      <td>0.0</td>\n",
       "      <td>0.0</td>\n",
       "      <td>0.0</td>\n",
       "    </tr>\n",
       "    <tr>\n",
       "      <th>3.0</th>\n",
       "      <td>0.056290</td>\n",
       "      <td>0.187942</td>\n",
       "      <td>0.000000</td>\n",
       "      <td>0.000000</td>\n",
       "      <td>0.000000</td>\n",
       "      <td>0.0</td>\n",
       "      <td>0.0</td>\n",
       "      <td>0.0</td>\n",
       "      <td>0.0</td>\n",
       "      <td>0.0</td>\n",
       "      <td>...</td>\n",
       "      <td>0.0</td>\n",
       "      <td>0.0</td>\n",
       "      <td>0.0</td>\n",
       "      <td>0.0</td>\n",
       "      <td>0.0</td>\n",
       "      <td>0.0</td>\n",
       "      <td>0.0</td>\n",
       "      <td>0.0</td>\n",
       "      <td>0.0</td>\n",
       "      <td>0.0</td>\n",
       "    </tr>\n",
       "    <tr>\n",
       "      <th>4.0</th>\n",
       "      <td>0.013227</td>\n",
       "      <td>0.020301</td>\n",
       "      <td>0.035989</td>\n",
       "      <td>0.000000</td>\n",
       "      <td>0.000000</td>\n",
       "      <td>0.0</td>\n",
       "      <td>0.0</td>\n",
       "      <td>0.0</td>\n",
       "      <td>0.0</td>\n",
       "      <td>0.0</td>\n",
       "      <td>...</td>\n",
       "      <td>0.0</td>\n",
       "      <td>0.0</td>\n",
       "      <td>0.0</td>\n",
       "      <td>0.0</td>\n",
       "      <td>0.0</td>\n",
       "      <td>0.0</td>\n",
       "      <td>0.0</td>\n",
       "      <td>0.0</td>\n",
       "      <td>0.0</td>\n",
       "      <td>0.0</td>\n",
       "    </tr>\n",
       "    <tr>\n",
       "      <th>5.0</th>\n",
       "      <td>0.006767</td>\n",
       "      <td>0.007382</td>\n",
       "      <td>0.011996</td>\n",
       "      <td>0.017533</td>\n",
       "      <td>0.000000</td>\n",
       "      <td>0.0</td>\n",
       "      <td>0.0</td>\n",
       "      <td>0.0</td>\n",
       "      <td>0.0</td>\n",
       "      <td>0.0</td>\n",
       "      <td>...</td>\n",
       "      <td>0.0</td>\n",
       "      <td>0.0</td>\n",
       "      <td>0.0</td>\n",
       "      <td>0.0</td>\n",
       "      <td>0.0</td>\n",
       "      <td>0.0</td>\n",
       "      <td>0.0</td>\n",
       "      <td>0.0</td>\n",
       "      <td>0.0</td>\n",
       "      <td>0.0</td>\n",
       "    </tr>\n",
       "    <tr>\n",
       "      <th>6.0</th>\n",
       "      <td>0.004306</td>\n",
       "      <td>0.003999</td>\n",
       "      <td>0.005844</td>\n",
       "      <td>0.005844</td>\n",
       "      <td>0.009843</td>\n",
       "      <td>0.0</td>\n",
       "      <td>0.0</td>\n",
       "      <td>0.0</td>\n",
       "      <td>0.0</td>\n",
       "      <td>0.0</td>\n",
       "      <td>...</td>\n",
       "      <td>0.0</td>\n",
       "      <td>0.0</td>\n",
       "      <td>0.0</td>\n",
       "      <td>0.0</td>\n",
       "      <td>0.0</td>\n",
       "      <td>0.0</td>\n",
       "      <td>0.0</td>\n",
       "      <td>0.0</td>\n",
       "      <td>0.0</td>\n",
       "      <td>0.0</td>\n",
       "    </tr>\n",
       "  </tbody>\n",
       "</table>\n",
       "<p>5 rows × 77 columns</p>\n",
       "</div>"
      ],
      "text/plain": [
       "unique_sent_txs       2.0       3.0       4.0       5.0       6.0     7.0     \\\n",
       "unique_receive_txs                                                             \n",
       "2.0                 0.443863  0.000000  0.000000  0.000000  0.000000     0.0   \n",
       "3.0                 0.056290  0.187942  0.000000  0.000000  0.000000     0.0   \n",
       "4.0                 0.013227  0.020301  0.035989  0.000000  0.000000     0.0   \n",
       "5.0                 0.006767  0.007382  0.011996  0.017533  0.000000     0.0   \n",
       "6.0                 0.004306  0.003999  0.005844  0.005844  0.009843     0.0   \n",
       "\n",
       "unique_sent_txs     8.0     9.0     10.0    11.0     ...    1747.0  2013.0  \\\n",
       "unique_receive_txs                                   ...                     \n",
       "2.0                    0.0     0.0     0.0     0.0   ...       0.0     0.0   \n",
       "3.0                    0.0     0.0     0.0     0.0   ...       0.0     0.0   \n",
       "4.0                    0.0     0.0     0.0     0.0   ...       0.0     0.0   \n",
       "5.0                    0.0     0.0     0.0     0.0   ...       0.0     0.0   \n",
       "6.0                    0.0     0.0     0.0     0.0   ...       0.0     0.0   \n",
       "\n",
       "unique_sent_txs     3143.0  3712.0  4006.0  4351.0  4966.0  5012.0  5136.0  \\\n",
       "unique_receive_txs                                                           \n",
       "2.0                    0.0     0.0     0.0     0.0     0.0     0.0     0.0   \n",
       "3.0                    0.0     0.0     0.0     0.0     0.0     0.0     0.0   \n",
       "4.0                    0.0     0.0     0.0     0.0     0.0     0.0     0.0   \n",
       "5.0                    0.0     0.0     0.0     0.0     0.0     0.0     0.0   \n",
       "6.0                    0.0     0.0     0.0     0.0     0.0     0.0     0.0   \n",
       "\n",
       "unique_sent_txs     5498.0  \n",
       "unique_receive_txs          \n",
       "2.0                    0.0  \n",
       "3.0                    0.0  \n",
       "4.0                    0.0  \n",
       "5.0                    0.0  \n",
       "6.0                    0.0  \n",
       "\n",
       "[5 rows x 77 columns]"
      ]
     },
     "execution_count": 22,
     "metadata": {},
     "output_type": "execute_result"
    }
   ],
   "source": [
    "pd_crosstab_small = pd.crosstab(df[\"unique_receive_txs\"][df[\"unique_receive_txs\"]>1], \\\n",
    "                                df[\"unique_sent_txs\"][df[\"unique_sent_txs\"]>1],\\\n",
    "                                normalize='all')\n",
    "pd_crosstab_small.head()"
   ]
  }
 ],
 "metadata": {
  "kernelspec": {
   "display_name": "Python 3",
   "language": "python",
   "name": "python3"
  },
  "language_info": {
   "codemirror_mode": {
    "name": "ipython",
    "version": 3
   },
   "file_extension": ".py",
   "mimetype": "text/x-python",
   "name": "python",
   "nbconvert_exporter": "python",
   "pygments_lexer": "ipython3",
   "version": "3.7.0"
  }
 },
 "nbformat": 4,
 "nbformat_minor": 2
}
